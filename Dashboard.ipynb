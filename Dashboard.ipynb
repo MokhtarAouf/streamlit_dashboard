{
 "cells": [
  {
   "cell_type": "code",
   "execution_count": 2,
   "metadata": {},
   "outputs": [],
   "source": [
    "import pandas as pd \n",
    "import matplotlib as mlt\n",
    "import seaborn as sn\n",
    "import numpy as np"
   ]
  },
  {
   "cell_type": "code",
   "execution_count": 9,
   "metadata": {},
   "outputs": [],
   "source": [
    "df = pd.read_csv('comorbidites.csv', on_bad_lines='skip')"
   ]
  },
  {
   "cell_type": "code",
   "execution_count": 11,
   "metadata": {},
   "outputs": [
    {
     "data": {
      "text/html": [
       "<div>\n",
       "<style scoped>\n",
       "    .dataframe tbody tr th:only-of-type {\n",
       "        vertical-align: middle;\n",
       "    }\n",
       "\n",
       "    .dataframe tbody tr th {\n",
       "        vertical-align: top;\n",
       "    }\n",
       "\n",
       "    .dataframe thead th {\n",
       "        text-align: right;\n",
       "    }\n",
       "</style>\n",
       "<table border=\"1\" class=\"dataframe\">\n",
       "  <thead>\n",
       "    <tr style=\"text-align: right;\">\n",
       "      <th></th>\n",
       "      <th></th>\n",
       "      <th>annee;patho_niv1;patho_niv2;patho_niv3;top;comorbidite;libelle_comorbidite;region;dept;ncomorb;ntop;proportion_comorb;patho_niv2_comorb;patho_niv3_comorb;patho_niv1_comorb;niveau_prioritaire</th>\n",
       "    </tr>\n",
       "  </thead>\n",
       "  <tbody>\n",
       "    <tr>\n",
       "      <th>2019;Affections de longue durée (dont 31 et 32) pour d'autres causes;Affections de longue durée (dont 31 et 32) pour d'autres causes;Affections de longue durée (dont 31 et 32) pour d'autres causes;ALD_CAT_CAT;TPS_ANX_EXC;Traitements anxiolytiques (hors pathologies);99;999;197240;1731110;0.113938;Traitements anxiolytiques (hors pathologies);Traitements anxiolytiques (hors pathologies);Traitements psychotropes (hors pathologies);1</th>\n",
       "      <th>2.0</th>\n",
       "      <td>3.0</td>\n",
       "    </tr>\n",
       "    <tr>\n",
       "      <th>2019;Affections de longue durée (dont 31 et 32) pour d'autres causes;Affections de longue durée (dont 31 et 32) pour d'autres causes;Affections de longue durée (dont 31 et 32) pour d'autres causes;ALD_CAT_CAT;MCV_TRC_IND;Troubles du rythme ou de la conduction cardiaque;99;999;156960;1731110;0.090671;Troubles du rythme ou de la conduction cardiaque;Troubles du rythme ou de la conduction cardiaque;Maladies cardioneurovasculaires;1</th>\n",
       "      <th>2.0</th>\n",
       "      <td>3.0</td>\n",
       "    </tr>\n",
       "    <tr>\n",
       "      <th>2019;Affections de longue durée (dont 31 et 32) pour d'autres causes;Affections de longue durée (dont 31 et 32) pour d'autres causes;Affections de longue durée (dont 31 et 32) pour d'autres causes;ALD_CAT_CAT;PSY_TNH_CAT;Troubles névrotiques et de l'humeur;99;999;112240;1731110;0.064835;Troubles névrotiques et de l'humeur;Troubles névrotiques et de l'humeur;Maladies psychiatriques;1</th>\n",
       "      <th>2.0</th>\n",
       "      <td>3.0</td>\n",
       "    </tr>\n",
       "    <tr>\n",
       "      <th>2019;Affections de longue durée (dont 31 et 32) pour d'autres causes;Affections de longue durée (dont 31 et 32) pour d'autres causes;Affections de longue durée (dont 31 et 32) pour d'autres causes;ALD_CAT_CAT;MCV_AVC_CHR;Séquelle d'accident vasculaire cérébral;99;999;67660;1731110;0.039082;Accident vasculaire cérébral;Séquelle d'accident vasculaire cérébral;Maladies cardioneurovasculaires;1</th>\n",
       "      <th>2.0</th>\n",
       "      <td>3.0</td>\n",
       "    </tr>\n",
       "    <tr>\n",
       "      <th>2019;Affections de longue durée (dont 31 et 32) pour d'autres causes;Affections de longue durée (dont 31 et 32) pour d'autres causes;Affections de longue durée (dont 31 et 32) pour d'autres causes;ALD_CAT_CAT;MCV_APE_IND;Artériopathie périphérique;99;999;53120;1731110;0.030683;Artériopathie périphérique;Artériopathie périphérique;Maladies cardioneurovasculaires;1</th>\n",
       "      <th>2.0</th>\n",
       "      <td>3.0</td>\n",
       "    </tr>\n",
       "  </tbody>\n",
       "</table>\n",
       "</div>"
      ],
      "text/plain": [
       "                                                        annee;patho_niv1;patho_niv2;patho_niv3;top;comorbidite;libelle_comorbidite;region;dept;ncomorb;ntop;proportion_comorb;patho_niv2_comorb;patho_niv3_comorb;patho_niv1_comorb;niveau_prioritaire\n",
       "2019;Affections de longue durée (dont 31 et 32)... 2.0                                                3.0                                                                                                                                             \n",
       "2019;Affections de longue durée (dont 31 et 32)... 2.0                                                3.0                                                                                                                                             \n",
       "2019;Affections de longue durée (dont 31 et 32)... 2.0                                                3.0                                                                                                                                             \n",
       "2019;Affections de longue durée (dont 31 et 32)... 2.0                                                3.0                                                                                                                                             \n",
       "2019;Affections de longue durée (dont 31 et 32)... 2.0                                                3.0                                                                                                                                             "
      ]
     },
     "execution_count": 11,
     "metadata": {},
     "output_type": "execute_result"
    }
   ],
   "source": [
    "df.head(5)"
   ]
  }
 ],
 "metadata": {
  "kernelspec": {
   "display_name": "Python 3",
   "language": "python",
   "name": "python3"
  },
  "language_info": {
   "codemirror_mode": {
    "name": "ipython",
    "version": 3
   },
   "file_extension": ".py",
   "mimetype": "text/x-python",
   "name": "python",
   "nbconvert_exporter": "python",
   "pygments_lexer": "ipython3",
   "version": "3.11.7"
  }
 },
 "nbformat": 4,
 "nbformat_minor": 2
}
